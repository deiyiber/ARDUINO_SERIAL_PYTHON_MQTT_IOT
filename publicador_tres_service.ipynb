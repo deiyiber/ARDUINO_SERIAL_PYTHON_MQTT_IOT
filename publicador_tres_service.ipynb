{
 "cells": [
  {
   "cell_type": "code",
   "execution_count": null,
   "metadata": {},
   "outputs": [],
   "source": [
    "#simulador de envio de temperatura\n",
    "import time\n",
    "import threading\n",
    "import random\n",
    "\n",
    "def ejecucion_horaria(segundos):\n",
    "    for i in range(10):\n",
    "        time.sleep(segundos)\n",
    "\n",
    "\n",
    "hilo = threading.Thread(target=ejecucion_horaria, args=(10,))\n",
    "hilo.start()   # Iniciamos la ejecución del thread,\n",
    "\n",
    "for i in range(30):\n",
    "    es=random.randrange(20)\n",
    "    broker_address = \"34.95.219.39\"\n",
    "    topic ='DRONE1/Ciudad_A/Localidad_2/temp'\n",
    "    publish.single(topic, es, hostname=broker_address, client_id='DRONE1')\n",
    "    time.sleep(1)"
   ]
  },
  {
   "cell_type": "code",
   "execution_count": null,
   "metadata": {},
   "outputs": [],
   "source": [
    "#simulador de envio de humedad\n",
    "import time\n",
    "import threading\n",
    "import random\n",
    "\n",
    "def ejecucion_horaria(segundos):\n",
    "    for i in range(10):\n",
    "        time.sleep(segundos)\n",
    "\n",
    "\n",
    "hilo = threading.Thread(target=ejecucion_horaria, args=(10,))\n",
    "hilo.start()   # Iniciamos la ejecución del thread,\n",
    "\n",
    "for i in range(30):\n",
    "    es=random.randrange(20)\n",
    "    broker_address = \"34.95.219.39\"\n",
    "    topic ='DRONE1/Ciudad_A/Localidad_2/hume'\n",
    "    publish.single(topic, es, hostname=broker_address, client_id='DRONE1')\n",
    "    time.sleep(1)"
   ]
  },
  {
   "cell_type": "code",
   "execution_count": null,
   "metadata": {},
   "outputs": [],
   "source": [
    "#simulador de envio de contaminacion\n",
    "import time\n",
    "import threading\n",
    "import random\n",
    "\n",
    "def ejecucion_horaria(segundos):\n",
    "    for i in range(10):\n",
    "        time.sleep(segundos)\n",
    "\n",
    "\n",
    "hilo = threading.Thread(target=ejecucion_horaria, args=(10,))\n",
    "hilo.start()   # Iniciamos la ejecución del thread,\n",
    "\n",
    "for i in range(30):\n",
    "    es=random.randrange(20)\n",
    "    broker_address = \"34.95.219.39\"\n",
    "    topic ='DRONE1/Ciudad_A/Localidad_2/conta'\n",
    "    publish.single(topic, es, hostname=broker_address, client_id='DRONE1')\n",
    "    time.sleep(1)"
   ]
  },
  {
   "cell_type": "code",
   "execution_count": 21,
   "metadata": {},
   "outputs": [],
   "source": [
    "#SOLO ENVIA UN DATO DE PRUEBA\n",
    "import paho.mqtt.publish as publish\n",
    "broker_address = \"34.95.219.39\"\n",
    "topic = \"DRONE1/Ciudad_A/Localidad_2/conta\"\n",
    "publish.single(topic, \"12345\", hostname=broker_address, client_id='DRONE')"
   ]
  },
  {
   "cell_type": "code",
   "execution_count": null,
   "metadata": {},
   "outputs": [],
   "source": []
  }
 ],
 "metadata": {
  "kernelspec": {
   "display_name": "Python 3",
   "language": "python",
   "name": "python3"
  },
  "language_info": {
   "codemirror_mode": {
    "name": "ipython",
    "version": 3
   },
   "file_extension": ".py",
   "mimetype": "text/x-python",
   "name": "python",
   "nbconvert_exporter": "python",
   "pygments_lexer": "ipython3",
   "version": "3.7.6"
  }
 },
 "nbformat": 4,
 "nbformat_minor": 4
}
