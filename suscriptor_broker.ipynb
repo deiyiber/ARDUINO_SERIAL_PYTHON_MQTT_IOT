{
 "cells": [
  {
   "cell_type": "code",
   "execution_count": null,
   "metadata": {},
   "outputs": [],
   "source": [
    "#--------------------------------------------------------------------------------------------------------------------------\n",
    "# suscriptor de topic temperatura\n",
    "import sys\n",
    "import paho.mqtt.client\n",
    "\n",
    "def connect(client, userdata, flags, rc):\n",
    "    print('connected (%s)' % client._client_id)\n",
    "    client.subscribe(topic='DRONE1/Ciudad_A/Localidad_2/temp', qos=2)# localidad Es el servicio\n",
    "\n",
    "def message(client, userdata, message):\n",
    "    print('------------------------------')\n",
    "    print('topic: %s' % message.topic)\n",
    "    print('payload: %s' % message.payload)\n",
    "    print('qos: %d' % message.qos)\n",
    "\n",
    "def main():\n",
    "    client = paho.mqtt.client.Client(client_id='EQUIPO_IOT', clean_session=False)#\n",
    "    client.on_connect = connect\n",
    "    client.on_message = message\n",
    "    client.connect(host='34.95.219.39')\n",
    "    client.loop_forever()\n",
    "\n",
    "if __name__ == '__main__':\n",
    "    main()\n",
    "\n",
    "sys.exit(0)"
   ]
  },
  {
   "cell_type": "code",
   "execution_count": null,
   "metadata": {},
   "outputs": [],
   "source": [
    "#--------------------------------------------------------------------------------------------------------------------------\n",
    "# suscriptor de topic humedad\n",
    "import sys\n",
    "import paho.mqtt.client\n",
    "\n",
    "def connect(client, userdata, flags, rc):\n",
    "    print('connected (%s)' % client._client_id)\n",
    "    client.subscribe(topic='DRONE1/Ciudad_A/Localidad_2/hume', qos=2)# localidad Es el servicio\n",
    "\n",
    "def message(client, userdata, message):\n",
    "    print('------------------------------')\n",
    "    print('topic: %s' % message.topic)\n",
    "    print('payload: %s' % message.payload)\n",
    "    print('qos: %d' % message.qos)\n",
    "\n",
    "def main():\n",
    "    client = paho.mqtt.client.Client(client_id='EQUIPO_IOT', clean_session=False)#\n",
    "    client.on_connect = connect\n",
    "    client.on_message = message\n",
    "    client.connect(host='34.95.219.39')\n",
    "    client.loop_forever()\n",
    "\n",
    "if __name__ == '__main__':\n",
    "    main()\n",
    "\n",
    "sys.exit(0)"
   ]
  },
  {
   "cell_type": "code",
   "execution_count": null,
   "metadata": {},
   "outputs": [],
   "source": [
    "#--------------------------------------------------------------------------------------------------------------------------\n",
    "# suscriptor de topic contaminacion\n",
    "import sys\n",
    "import paho.mqtt.client\n",
    "\n",
    "def connect(client, userdata, flags, rc):\n",
    "    print('connected (%s)' % client._client_id)\n",
    "    client.subscribe(topic='DRONE1/Ciudad_A/Localidad_2/conta', qos=2)# localidad Es el servicio\n",
    "\n",
    "def message(client, userdata, message):\n",
    "    print('------------------------------')\n",
    "    print('topic: %s' % message.topic)\n",
    "    print('payload: %s' % message.payload)\n",
    "    print('qos: %d' % message.qos)\n",
    "\n",
    "def main():\n",
    "    client = paho.mqtt.client.Client(client_id='EQUIPO_IOT', clean_session=False)#\n",
    "    client.on_connect = connect\n",
    "    client.on_message = message\n",
    "    client.connect(host='34.95.219.39')\n",
    "    client.loop_forever()\n",
    "\n",
    "if __name__ == '__main__':\n",
    "    main()\n",
    "\n",
    "sys.exit(0)"
   ]
  }
 ],
 "metadata": {
  "kernelspec": {
   "display_name": "Python 3",
   "language": "python",
   "name": "python3"
  },
  "language_info": {
   "codemirror_mode": {
    "name": "ipython",
    "version": 3
   },
   "file_extension": ".py",
   "mimetype": "text/x-python",
   "name": "python",
   "nbconvert_exporter": "python",
   "pygments_lexer": "ipython3",
   "version": "3.7.6"
  }
 },
 "nbformat": 4,
 "nbformat_minor": 4
}
